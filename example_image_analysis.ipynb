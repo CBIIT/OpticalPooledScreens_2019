{
 "cells": [
  {
   "cell_type": "code",
   "execution_count": 1,
   "metadata": {},
   "outputs": [
    {
     "name": "stdout",
     "output_type": "stream",
     "text": [
      "Requirement already satisfied: natsort==5.3.3 in /Users/sagarm2/opt/miniconda3/lib/python3.9/site-packages (5.3.3)\r\n"
     ]
    }
   ],
   "source": [
    "!pip3 install natsort==5.3.3"
   ]
  },
  {
   "cell_type": "code",
   "execution_count": 2,
   "metadata": {},
   "outputs": [],
   "source": [
    "!pip3 install scikit-image>=0.16.2"
   ]
  },
  {
   "cell_type": "code",
   "execution_count": 1,
   "metadata": {},
   "outputs": [
    {
     "name": "stdout",
     "output_type": "stream",
     "text": [
      "Requirement already satisfied: scikit-image==0.19.2 in /Users/sagarm2/opt/miniconda3/lib/python3.9/site-packages (0.19.2)\n",
      "Requirement already satisfied: numpy>=1.17.0 in /Users/sagarm2/opt/miniconda3/lib/python3.9/site-packages (from scikit-image==0.19.2) (1.23.4)\n",
      "Requirement already satisfied: tifffile>=2019.7.26 in /Users/sagarm2/opt/miniconda3/lib/python3.9/site-packages (from scikit-image==0.19.2) (2022.10.10)\n",
      "Requirement already satisfied: networkx>=2.2 in /Users/sagarm2/opt/miniconda3/lib/python3.9/site-packages (from scikit-image==0.19.2) (2.4)\n",
      "Requirement already satisfied: packaging>=20.0 in /Users/sagarm2/opt/miniconda3/lib/python3.9/site-packages (from scikit-image==0.19.2) (21.3)\n",
      "Requirement already satisfied: PyWavelets>=1.1.1 in /Users/sagarm2/opt/miniconda3/lib/python3.9/site-packages (from scikit-image==0.19.2) (1.4.1)\n",
      "Requirement already satisfied: imageio>=2.4.1 in /Users/sagarm2/opt/miniconda3/lib/python3.9/site-packages (from scikit-image==0.19.2) (2.9.0)\n",
      "Requirement already satisfied: scipy>=1.4.1 in /Users/sagarm2/opt/miniconda3/lib/python3.9/site-packages (from scikit-image==0.19.2) (1.9.3)\n",
      "Requirement already satisfied: pillow!=7.1.0,!=7.1.1,!=8.3.0,>=6.1.0 in /Users/sagarm2/opt/miniconda3/lib/python3.9/site-packages (from scikit-image==0.19.2) (7.1.2)\n",
      "Requirement already satisfied: decorator>=4.3.0 in /Users/sagarm2/opt/miniconda3/lib/python3.9/site-packages (from networkx>=2.2->scikit-image==0.19.2) (4.4.2)\n",
      "Requirement already satisfied: pyparsing!=3.0.5,>=2.0.2 in /Users/sagarm2/opt/miniconda3/lib/python3.9/site-packages (from packaging>=20.0->scikit-image==0.19.2) (3.0.9)\n"
     ]
    }
   ],
   "source": [
    "!pip3 install scikit-image==0.19.2"
   ]
  },
  {
   "cell_type": "code",
   "execution_count": 4,
   "metadata": {},
   "outputs": [
    {
     "name": "stdout",
     "output_type": "stream",
     "text": [
      "Requirement already satisfied: python-Levenshtein==0.12.0 in /Users/sagarm2/opt/miniconda3/lib/python3.9/site-packages (0.12.0)\r\n",
      "Requirement already satisfied: setuptools in /Users/sagarm2/opt/miniconda3/lib/python3.9/site-packages (from python-Levenshtein==0.12.0) (65.5.0)\r\n"
     ]
    }
   ],
   "source": [
    "!pip3 install python-Levenshtein==0.12.0"
   ]
  },
  {
   "cell_type": "code",
   "execution_count": 5,
   "metadata": {},
   "outputs": [
    {
     "name": "stdout",
     "output_type": "stream",
     "text": [
      "Collecting appdirs==1.4.3\n",
      "  Using cached appdirs-1.4.3-py2.py3-none-any.whl (12 kB)\n",
      "Collecting appnope==0.1.0\n",
      "  Using cached appnope-0.1.0-py2.py3-none-any.whl (4.0 kB)\n",
      "Collecting astroid==2.0.4\n",
      "  Using cached astroid-2.0.4-py3-none-any.whl (172 kB)\n",
      "Collecting backcall==0.1.0\n",
      "  Using cached backcall-0.1.0.zip (11 kB)\n",
      "  Preparing metadata (setup.py) ... \u001b[?25ldone\n",
      "\u001b[?25hCollecting bleach==2.1.3\n",
      "  Using cached bleach-2.1.3-py2.py3-none-any.whl (28 kB)\n",
      "Collecting certifi==2018.8.24\n",
      "  Using cached certifi-2018.8.24-py2.py3-none-any.whl (147 kB)\n",
      "Collecting chardet==3.0.4\n",
      "  Using cached chardet-3.0.4-py2.py3-none-any.whl (133 kB)\n",
      "Collecting cloudpickle==0.5.3\n",
      "  Using cached cloudpickle-0.5.3-py2.py3-none-any.whl (13 kB)\n",
      "Collecting ConfigArgParse==0.13.0\n",
      "  Using cached ConfigArgParse-0.13.0.tar.gz (31 kB)\n",
      "  Preparing metadata (setup.py) ... \u001b[?25ldone\n",
      "\u001b[?25hCollecting cycler==0.10.0\n",
      "  Using cached cycler-0.10.0-py2.py3-none-any.whl (6.5 kB)\n",
      "Collecting dask==0.18.2\n",
      "  Using cached dask-0.18.2-py2.py3-none-any.whl (645 kB)\n",
      "Collecting decorator==4.3.0\n",
      "  Using cached decorator-4.3.0-py2.py3-none-any.whl (9.2 kB)\n",
      "Collecting entrypoints==0.2.3\n",
      "  Using cached entrypoints-0.2.3-py2.py3-none-any.whl (9.4 kB)\n",
      "Collecting html5lib==1.0.1\n",
      "  Using cached html5lib-1.0.1-py2.py3-none-any.whl (117 kB)\n",
      "Collecting idna==2.7\n",
      "  Using cached idna-2.7-py2.py3-none-any.whl (58 kB)\n",
      "Collecting ipykernel==4.8.2\n",
      "  Using cached ipykernel-4.8.2-py3-none-any.whl (108 kB)\n",
      "Collecting ipython==6.5.0\n",
      "  Using cached ipython-6.5.0-py3-none-any.whl (748 kB)\n",
      "Requirement already satisfied: ipython-genutils==0.2.0 in /Users/sagarm2/opt/miniconda3/lib/python3.9/site-packages (from -r requirements.txt (line 18)) (0.2.0)\n",
      "Collecting ipywidgets==7.3.2\n",
      "  Using cached ipywidgets-7.3.2-py2.py3-none-any.whl (110 kB)\n",
      "Collecting isort==4.3.4\n",
      "  Using cached isort-4.3.4-py3-none-any.whl (45 kB)\n",
      "Collecting jedi==0.12.1\n",
      "  Using cached jedi-0.12.1-py2.py3-none-any.whl (174 kB)\n",
      "Collecting Jinja2==2.10.1\n",
      "  Using cached Jinja2-2.10.1-py2.py3-none-any.whl (124 kB)\n",
      "Collecting jsonschema==2.6.0\n",
      "  Using cached jsonschema-2.6.0-py2.py3-none-any.whl (39 kB)\n",
      "Requirement already satisfied: jupyter==1.0.0 in /Users/sagarm2/opt/miniconda3/lib/python3.9/site-packages (from -r requirements.txt (line 24)) (1.0.0)\n",
      "Collecting jupyter-client==5.2.3\n",
      "  Using cached jupyter_client-5.2.3-py2.py3-none-any.whl (89 kB)\n",
      "Collecting jupyter-console==5.2.0\n",
      "  Using cached jupyter_console-5.2.0-py2.py3-none-any.whl (20 kB)\n",
      "Collecting jupyter-core==4.4.0\n",
      "  Using cached jupyter_core-4.4.0-py2.py3-none-any.whl (126 kB)\n",
      "Collecting kiwisolver==1.0.1\n",
      "  Using cached kiwisolver-1.0.1.tar.gz (31 kB)\n",
      "  Preparing metadata (setup.py) ... \u001b[?25ldone\n",
      "\u001b[?25hCollecting lazy-object-proxy==1.3.1\n",
      "  Using cached lazy-object-proxy-1.3.1.tar.gz (32 kB)\n",
      "  Preparing metadata (setup.py) ... \u001b[?25ldone\n",
      "\u001b[?25hRequirement already satisfied: matplotlib>=2.2.2 in /Users/sagarm2/opt/miniconda3/lib/python3.9/site-packages (from -r requirements.txt (line 30)) (3.1.3)\n",
      "Collecting mccabe==0.6.1\n",
      "  Using cached mccabe-0.6.1-py2.py3-none-any.whl (8.6 kB)\n",
      "Collecting mistune==0.8.3\n",
      "  Using cached mistune-0.8.3-py2.py3-none-any.whl (16 kB)\n",
      "Requirement already satisfied: natsort==5.3.3 in /Users/sagarm2/opt/miniconda3/lib/python3.9/site-packages (from -r requirements.txt (line 33)) (5.3.3)\n",
      "Collecting nbconvert==5.3.1\n",
      "  Using cached nbconvert-5.3.1-py2.py3-none-any.whl (387 kB)\n",
      "Collecting nbformat==4.4.0\n",
      "  Using cached nbformat-4.4.0-py2.py3-none-any.whl (155 kB)\n",
      "Collecting networkx==2.1\n",
      "  Using cached networkx-2.1.zip (1.6 MB)\n",
      "  Preparing metadata (setup.py) ... \u001b[?25ldone\n",
      "\u001b[?25hRequirement already satisfied: notebook>=5.7.2 in /Users/sagarm2/opt/miniconda3/lib/python3.9/site-packages (from -r requirements.txt (line 37)) (6.5.2)\n",
      "Requirement already satisfied: numpy>=1.18.1 in /Users/sagarm2/opt/miniconda3/lib/python3.9/site-packages (from -r requirements.txt (line 38)) (1.23.4)\n",
      "Requirement already satisfied: pandas>=1.0.0 in /Users/sagarm2/opt/miniconda3/lib/python3.9/site-packages (from -r requirements.txt (line 39)) (1.5.2)\n",
      "Collecting pandocfilters==1.4.2\n",
      "  Using cached pandocfilters-1.4.2.tar.gz (14 kB)\n",
      "  Preparing metadata (setup.py) ... \u001b[?25ldone\n",
      "\u001b[?25hCollecting parso==0.3.1\n",
      "  Using cached parso-0.3.1-py2.py3-none-any.whl (88 kB)\n",
      "Collecting pexpect==4.6.0\n",
      "  Using cached pexpect-4.6.0-py2.py3-none-any.whl (57 kB)\n",
      "Collecting pickleshare==0.7.4\n",
      "  Using cached pickleshare-0.7.4-py2.py3-none-any.whl (6.9 kB)\n",
      "Collecting Pillow==6.2.0\n",
      "  Using cached Pillow-6.2.0.tar.gz (37.4 MB)\n",
      "  Preparing metadata (setup.py) ... \u001b[?25ldone\n",
      "\u001b[?25hCollecting pip-autoremove==0.9.1\n",
      "  Using cached pip_autoremove-0.9.1-py2.py3-none-any.whl (3.8 kB)\n",
      "Collecting prometheus-client==0.3.1\n",
      "  Using cached prometheus_client-0.3.1.tar.gz (27 kB)\n",
      "  Preparing metadata (setup.py) ... \u001b[?25ldone\n",
      "\u001b[?25hCollecting prompt-toolkit==1.0.15\n",
      "  Using cached prompt_toolkit-1.0.15-py3-none-any.whl (247 kB)\n",
      "Collecting ptyprocess==0.6.0\n",
      "  Using cached ptyprocess-0.6.0-py2.py3-none-any.whl (39 kB)\n",
      "Collecting Pygments==2.2.0\n",
      "  Using cached Pygments-2.2.0-py2.py3-none-any.whl (841 kB)\n",
      "Collecting pylint==2.1.1\n",
      "  Using cached pylint-2.1.1-py3-none-any.whl (737 kB)\n",
      "Collecting pyparsing==2.2.0\n",
      "  Using cached pyparsing-2.2.0-py2.py3-none-any.whl (56 kB)\n",
      "Collecting python-dateutil==2.7.3\n",
      "  Using cached python_dateutil-2.7.3-py2.py3-none-any.whl (211 kB)\n",
      "Requirement already satisfied: python-Levenshtein==0.12.0 in /Users/sagarm2/opt/miniconda3/lib/python3.9/site-packages (from -r requirements.txt (line 53)) (0.12.0)\n",
      "Collecting pytz==2018.5\n",
      "  Using cached pytz-2018.5-py2.py3-none-any.whl (510 kB)\n",
      "Requirement already satisfied: PyWavelets>=0.5.2 in /Users/sagarm2/opt/miniconda3/lib/python3.9/site-packages (from -r requirements.txt (line 55)) (1.4.1)\n",
      "Collecting PyYAML==5.1\n",
      "  Using cached PyYAML-5.1.tar.gz (274 kB)\n",
      "  Preparing metadata (setup.py) ... \u001b[?25ldone\n",
      "\u001b[?25hCollecting pyzmq==17.1.0\n",
      "  Using cached pyzmq-17.1.0.tar.gz (1.1 MB)\n",
      "  Preparing metadata (setup.py) ... \u001b[?25ldone\n",
      "\u001b[?25hCollecting qtconsole==4.3.1\n",
      "  Using cached qtconsole-4.3.1-py2.py3-none-any.whl (108 kB)\n",
      "Requirement already satisfied: ratelimiter==1.2.0.post0 in /Users/sagarm2/opt/miniconda3/lib/python3.9/site-packages (from -r requirements.txt (line 59)) (1.2.0.post0)\n",
      "Collecting requests==2.21.0\n",
      "  Using cached requests-2.21.0-py2.py3-none-any.whl (57 kB)\n",
      "Requirement already satisfied: scikit-image>=0.16.2 in /Users/sagarm2/opt/miniconda3/lib/python3.9/site-packages (from -r requirements.txt (line 61)) (0.19.2)\n",
      "Collecting scipy==1.1.0\n",
      "  Using cached scipy-1.1.0.tar.gz (15.6 MB)\n",
      "  Preparing metadata (setup.py) ... \u001b[?25ldone\n",
      "\u001b[?25hCollecting seaborn==0.10.0\n",
      "  Using cached seaborn-0.10.0-py3-none-any.whl (215 kB)\n",
      "Collecting Send2Trash==1.5.0\n",
      "  Using cached Send2Trash-1.5.0-py3-none-any.whl (12 kB)\n",
      "Collecting simplegeneric==0.8.1\n",
      "  Using cached simplegeneric-0.8.1.zip (12 kB)\n",
      "  Preparing metadata (setup.py) ... \u001b[?25ldone\n",
      "\u001b[?25hCollecting six==1.11.0\n",
      "  Using cached six-1.11.0-py2.py3-none-any.whl (10 kB)\n",
      "Collecting snakemake==5.10.0\n",
      "  Using cached snakemake-5.10.0.tar.gz (200 kB)\n",
      "  Preparing metadata (setup.py) ... \u001b[?25ldone\n",
      "\u001b[?25hRequirement already satisfied: statsmodels>=0.9.0 in /Users/sagarm2/opt/miniconda3/lib/python3.9/site-packages (from -r requirements.txt (line 68)) (0.13.2)\n",
      "Collecting terminado==0.8.1\n",
      "  Using cached terminado-0.8.1-py2.py3-none-any.whl (33 kB)\n",
      "Collecting testpath==0.3.1\n",
      "  Using cached testpath-0.3.1-py2.py3-none-any.whl (161 kB)\n",
      "Collecting toolz==0.9.0\n",
      "  Using cached toolz-0.9.0.tar.gz (45 kB)\n",
      "  Preparing metadata (setup.py) ... \u001b[?25ldone\n",
      "\u001b[?25hCollecting tornado==5.1\n",
      "  Using cached tornado-5.1.tar.gz (516 kB)\n",
      "  Preparing metadata (setup.py) ... \u001b[?25ldone\n",
      "\u001b[?25hCollecting tqdm==4.26.0\n",
      "  Using cached tqdm-4.26.0-py2.py3-none-any.whl (43 kB)\n",
      "Collecting traitlets==4.3.2\n",
      "  Using cached traitlets-4.3.2-py2.py3-none-any.whl (74 kB)\n",
      "Collecting typed-ast==1.1.0\n",
      "  Using cached typed-ast-1.1.0.tar.gz (200 kB)\n",
      "  Preparing metadata (setup.py) ... \u001b[?25ldone\n",
      "\u001b[?25hCollecting urllib3==1.24.2\n",
      "  Using cached urllib3-1.24.2-py2.py3-none-any.whl (131 kB)\n",
      "Collecting wcwidth==0.1.7\n",
      "  Using cached wcwidth-0.1.7-py2.py3-none-any.whl (21 kB)\n",
      "Requirement already satisfied: webencodings==0.5.1 in /Users/sagarm2/opt/miniconda3/lib/python3.9/site-packages (from -r requirements.txt (line 78)) (0.5.1)\n"
     ]
    },
    {
     "name": "stdout",
     "output_type": "stream",
     "text": [
      "Collecting widgetsnbextension==3.3.1\n",
      "  Using cached widgetsnbextension-3.3.1-py2.py3-none-any.whl (2.2 MB)\n",
      "Collecting wrapt==1.10.11\n",
      "  Using cached wrapt-1.10.11.tar.gz (27 kB)\n",
      "  Preparing metadata (setup.py) ... \u001b[?25ldone\n",
      "\u001b[?25hCollecting xlrd==1.1.0\n",
      "  Using cached xlrd-1.1.0-py2.py3-none-any.whl (108 kB)\n",
      "Collecting xlwt==1.3.0\n",
      "  Using cached xlwt-1.3.0-py2.py3-none-any.whl (99 kB)\n",
      "Requirement already satisfied: MarkupSafe>=1.0 in /Users/sagarm2/opt/miniconda3/lib/python3.9/site-packages (from -r requirements.txt (line 83)) (2.1.1)\n",
      "Collecting tables\n",
      "  Using cached tables-3.8.0.tar.gz (8.0 MB)\n",
      "  Installing build dependencies ... \u001b[?25ldone\n",
      "\u001b[?25h  Getting requirements to build wheel ... \u001b[?25lerror\n",
      "  \u001b[1;31merror\u001b[0m: \u001b[1msubprocess-exited-with-error\u001b[0m\n",
      "  \n",
      "  \u001b[31m×\u001b[0m \u001b[32mGetting requirements to build wheel\u001b[0m did not run successfully.\n",
      "  \u001b[31m│\u001b[0m exit code: \u001b[1;36m1\u001b[0m\n",
      "  \u001b[31m╰─>\u001b[0m \u001b[31m[11 lines of output]\u001b[0m\n",
      "  \u001b[31m   \u001b[0m ld: library not found for -lhdf5\n",
      "  \u001b[31m   \u001b[0m clang: error: linker command failed with exit code 1 (use -v to see invocation)\n",
      "  \u001b[31m   \u001b[0m cpuinfo failed, assuming no CPU features: 'flags'\n",
      "  \u001b[31m   \u001b[0m * Using Python 3.9.15 | packaged by conda-forge | (main, Nov 22 2022, 08:52:10)\n",
      "  \u001b[31m   \u001b[0m * Found cython 0.29.33\n",
      "  \u001b[31m   \u001b[0m * USE_PKGCONFIG: False\n",
      "  \u001b[31m   \u001b[0m * Found conda env: ``/Users/sagarm2/opt/miniconda3``\n",
      "  \u001b[31m   \u001b[0m .. ERROR:: Could not find a local HDF5 installation.\n",
      "  \u001b[31m   \u001b[0m    You may need to explicitly state where your local HDF5 headers and\n",
      "  \u001b[31m   \u001b[0m    library can be found by setting the ``HDF5_DIR`` environment\n",
      "  \u001b[31m   \u001b[0m    variable or by using the ``--hdf5`` command-line option.\n",
      "  \u001b[31m   \u001b[0m \u001b[31m[end of output]\u001b[0m\n",
      "  \n",
      "  \u001b[1;35mnote\u001b[0m: This error originates from a subprocess, and is likely not a problem with pip.\n",
      "\u001b[1;31merror\u001b[0m: \u001b[1msubprocess-exited-with-error\u001b[0m\n",
      "\n",
      "\u001b[31m×\u001b[0m \u001b[32mGetting requirements to build wheel\u001b[0m did not run successfully.\n",
      "\u001b[31m│\u001b[0m exit code: \u001b[1;36m1\u001b[0m\n",
      "\u001b[31m╰─>\u001b[0m See above for output.\n",
      "\n",
      "\u001b[1;35mnote\u001b[0m: This error originates from a subprocess, and is likely not a problem with pip.\n",
      "\u001b[?25h"
     ]
    }
   ],
   "source": [
    "!pip install -r requirements.txt"
   ]
  },
  {
   "cell_type": "code",
   "execution_count": 13,
   "metadata": {},
   "outputs": [
    {
     "name": "stdout",
     "output_type": "stream",
     "text": [
      "Obtaining file:///Users/sagarm2/Documents/OpticalPooledscreen/OpticalPooledScreens_2019-master/example_data\r\n",
      "\u001b[31mERROR: file:///Users/sagarm2/Documents/OpticalPooledscreen/OpticalPooledScreens_2019-master/example_data does not appear to be a Python project: neither 'setup.py' nor 'pyproject.toml' found.\u001b[0m\u001b[31m\r\n",
      "\u001b[0m"
     ]
    }
   ],
   "source": [
    "!pip install -e ."
   ]
  },
  {
   "cell_type": "code",
   "execution_count": 4,
   "metadata": {
    "scrolled": true
   },
   "outputs": [],
   "source": [
    "from ops.imports import *\n",
    "from ops.process import Align\n",
    "import ops.firesnake\n",
    "from ops.firesnake import Snake\n",
    "\n",
    "\n",
    "\n",
    "# runs example from example_data/ sub-directory of project\n",
    "home = os.path.dirname(os.path.dirname(ops.__file__))\n",
    "os.chdir(os.path.join(home, 'example_data'))\n",
    "\n",
    "df_design = pd.read_csv('design.csv')\n",
    "\n",
    "THRESHOLD_READS = 50\n",
    "THRESHOLD_STD = 300\n",
    "THRESHOLD_DAPI = 1200\n",
    "THRESHOLD_CELL = 800\n",
    "NUCLEUS_AREA = 0.25*150, 0.25*800\n",
    "#WILDCARDS = dict(well='A1', tile='107') # this one was the original but does not have the phenotype file\n",
    "WILDCARDS = dict(well='A1', tile='7')"
   ]
  },
  {
   "cell_type": "code",
   "execution_count": 2,
   "metadata": {},
   "outputs": [],
   "source": [
    "WILDCARDS = dict(well='A1', tile='7')"
   ]
  },
  {
   "cell_type": "code",
   "execution_count": 23,
   "metadata": {},
   "outputs": [],
   "source": [
    "def matplotCreation(img,x,y,stride):\n",
    "    from matplotlib import pyplot as plt\n",
    "    plt.imshow(img[x:x+stride,y:y+stride], interpolation='nearest')\n",
    "    plt.rcParams['figure.figsize'] = [8, 6]\n",
    "    plt.rcParams['figure.dpi'] = 100 # 200 e.g. is really fine, but slower\n",
    "    plt.show()\n",
    "    return plt\n",
    "\n",
    "def matplotCreation3(img,x,y,stride):\n",
    "    from matplotlib import pyplot as plt\n",
    "    plt.imshow(img[x:x+stride,y:y+stride,...], interpolation='nearest')\n",
    "    plt.rcParams['figure.figsize'] = [8, 6]\n",
    "    plt.rcParams['figure.dpi'] = 100 # 200 e.g. is really fine, but slower\n",
    "    plt.show()\n",
    "    return plt\n",
    "    "
   ]
  },
  {
   "cell_type": "code",
   "execution_count": 25,
   "metadata": {},
   "outputs": [
    {
     "name": "stdout",
     "output_type": "stream",
     "text": [
      "inputIsa/Composite01.tif\n",
      "{'subdir': 'process_ipynb', 'mag': '10X', 'well': 'A1', 'tile': '7', 'tag': 'sbs', 'ext': 'tif', 'file': 'input2/10X_c1-SBS-1/10X_c1-SBS-1_A1_Tile-7.sbs.tif'}\n",
      "inputIsa/*.tif\n"
     ]
    }
   ],
   "source": [
    "print(input_files[0])\n",
    "print(description)\n",
    "print(search)"
   ]
  },
  {
   "cell_type": "code",
   "execution_count": 24,
   "metadata": {},
   "outputs": [
    {
     "name": "stdout",
     "output_type": "stream",
     "text": [
      "inputIsa/Composite01.tif\n",
      "inputIsa/Composite02.tif\n",
      "inputIsa/Composite03.tif\n",
      "inputIsa/Composite04.tif\n",
      "inputIsa/Composite05.tif\n"
     ]
    },
    {
     "ename": "ValueError",
     "evalue": "failed to parse filename: inputIsa/Composite01.tif",
     "output_type": "error",
     "traceback": [
      "\u001b[0;31m---------------------------------------------------------------------------\u001b[0m",
      "\u001b[0;31mValueError\u001b[0m                                Traceback (most recent call last)",
      "Cell \u001b[0;32mIn[24], line 9\u001b[0m\n\u001b[1;32m      6\u001b[0m \u001b[38;5;28;01mfor\u001b[39;00m f \u001b[38;5;129;01min\u001b[39;00m input_files:\n\u001b[1;32m      7\u001b[0m     \u001b[38;5;28mprint\u001b[39m(f)\n\u001b[0;32m----> 9\u001b[0m description \u001b[38;5;241m=\u001b[39m \u001b[43mparse\u001b[49m\u001b[43m(\u001b[49m\u001b[43minput_files\u001b[49m\u001b[43m[\u001b[49m\u001b[38;5;241;43m0\u001b[39;49m\u001b[43m]\u001b[49m\u001b[43m)\u001b[49m\n\u001b[1;32m     10\u001b[0m description[\u001b[38;5;124m'\u001b[39m\u001b[38;5;124msubdir\u001b[39m\u001b[38;5;124m'\u001b[39m] \u001b[38;5;241m=\u001b[39m \u001b[38;5;124m'\u001b[39m\u001b[38;5;124mprocess_ipynb\u001b[39m\u001b[38;5;124m'\u001b[39m\n\u001b[1;32m     11\u001b[0m description\u001b[38;5;241m.\u001b[39mpop(\u001b[38;5;124m'\u001b[39m\u001b[38;5;124mcycle\u001b[39m\u001b[38;5;124m'\u001b[39m);\n",
      "File \u001b[0;32m~/Documents/OpticalPooledscreen/OpticalPooledScreens_2019-master/ops/filenames.py:71\u001b[0m, in \u001b[0;36mparse_filename\u001b[0;34m(filename, custom_patterns)\u001b[0m\n\u001b[1;32m     68\u001b[0m     \u001b[38;5;28;01mexcept\u001b[39;00m \u001b[38;5;167;01mAttributeError\u001b[39;00m:\n\u001b[1;32m     69\u001b[0m         \u001b[38;5;28;01mcontinue\u001b[39;00m\n\u001b[0;32m---> 71\u001b[0m \u001b[38;5;28;01mraise\u001b[39;00m \u001b[38;5;167;01mValueError\u001b[39;00m(\u001b[38;5;124m'\u001b[39m\u001b[38;5;124mfailed to parse filename: \u001b[39m\u001b[38;5;132;01m%s\u001b[39;00m\u001b[38;5;124m'\u001b[39m \u001b[38;5;241m%\u001b[39m filename)\n",
      "\u001b[0;31mValueError\u001b[0m: failed to parse filename: inputIsa/Composite01.tif"
     ]
    }
   ],
   "source": [
    "# this is written for ISA acquired image from 03/01/2023\n",
    "# CYCLE, CHANNEL, I, J -> data format\n",
    "# search = 'inputIsa/*/*.tif'.format(**WILDCARDS)\n",
    "search = 'inputIsa/*.tif'\n",
    "input_files = natsorted(glob(search))\n",
    "for f in input_files:\n",
    "    print(f)\n",
    "\n",
    "description = parse(input_files[0])\n",
    "description['subdir'] = 'process_ipynb'\n",
    "description.pop('cycle');\n",
    "\n",
    "data = np.array([read(f) for f in input_files])\n",
    "print(data.shape)"
   ]
  },
  {
   "cell_type": "code",
   "execution_count": 7,
   "metadata": {
    "scrolled": true
   },
   "outputs": [
    {
     "name": "stdout",
     "output_type": "stream",
     "text": [
      "input2/10X_c1-SBS-1/10X_c1-SBS-1_A1_Tile-7.sbs.tif\n",
      "input2/10X_c2-SBS-2/10X_c2-SBS-2_A1_Tile-7.sbs.tif\n",
      "input2/10X_c3-SBS-3/10X_c3-SBS-3_A1_Tile-7.sbs.tif\n",
      "input2/10X_c4-SBS-4/10X_c4-SBS-4_A1_Tile-7.sbs.tif\n",
      "input2/10X_c5-SBS-5/10X_c5-SBS-5_A1_Tile-7.sbs.tif\n",
      "input2/10X_c6-SBS-6/10X_c6-SBS-6_A1_Tile-7.sbs.tif\n",
      "input2/10X_c7-SBS-7/10X_c7-SBS-7_A1_Tile-7.sbs.tif\n",
      "input2/10X_c8-SBS-8/10X_c8-SBS-8_A1_Tile-7.sbs.tif\n",
      "input2/10X_c9-SBS-9/10X_c9-SBS-9_A1_Tile-7.sbs.tif\n"
     ]
    }
   ],
   "source": [
    "# this is input for the lainey data, the previous section is for our data\n",
    "#search = 'input/*/10X*{well}_Tile-{tile}.tif'.format(**WILDCARDS)\n",
    "search = 'input2/*/10X*{well}_Tile-{tile}.sbs.tif'.format(**WILDCARDS)\n",
    "input_files = natsorted(glob(search))\n",
    "for f in input_files:\n",
    "    print(f)\n",
    "\n",
    "# used to format output filenames\n",
    "description = parse(input_files[0])\n",
    "description['subdir'] = 'process_ipynb1'\n",
    "description.pop('cycle');"
   ]
  },
  {
   "cell_type": "code",
   "execution_count": 6,
   "metadata": {},
   "outputs": [
    {
     "name": "stdout",
     "output_type": "stream",
     "text": [
      "{'subdir': 'process_ipynb', 'mag': '10X', 'well': 'A1', 'tile': '7', 'tag': 'sbs', 'ext': 'tif', 'file': 'input2/10X_c1-SBS-1/10X_c1-SBS-1_A1_Tile-7.sbs.tif'}\n"
     ]
    }
   ],
   "source": [
    "print(description)"
   ]
  },
  {
   "cell_type": "code",
   "execution_count": 13,
   "metadata": {},
   "outputs": [
    {
     "name": "stdout",
     "output_type": "stream",
     "text": [
      "input2/10X_c0-DAPI-p65mNeon_A1_Tile-7.phenotype.tif\n"
     ]
    }
   ],
   "source": [
    "# read temp phenotype image. This does not correspond to the original phenoptype for this well/tile\n",
    "ph_search = 'input2/10X*{well}_Tile-{tile}.phenotype.tif'.format(**WILDCARDS)\n",
    "ph_input_files = natsorted(glob(ph_search))\n",
    "for f in ph_input_files:\n",
    "    print(f)\n"
   ]
  },
  {
   "cell_type": "code",
   "execution_count": 9,
   "metadata": {},
   "outputs": [],
   "source": [
    "description= {'subdir': 'process_ipynb', 'mag': '10X', 'well': 'A1', 'tile': '7', 'tag': 'sbs', 'ext': 'tif', 'file': 'input2/10X_c1-SBS-1/10X_c1-SBS-1_A1_Tile-7.sbs.tif'}"
   ]
  },
  {
   "cell_type": "code",
   "execution_count": 12,
   "metadata": {},
   "outputs": [
    {
     "data": {
      "text/plain": [
       "{'subdir': 'input2/10X_c1-SBS-1',\n",
       " 'mag': '10X',\n",
       " 'cycle': 'c1-SBS-1',\n",
       " 'well': 'A1',\n",
       " 'tile': '7',\n",
       " 'tag': 'sbs',\n",
       " 'ext': 'tif',\n",
       " 'file': 'input2/10X_c1-SBS-1/10X_c1-SBS-1_A1_Tile-7.sbs.tif'}"
      ]
     },
     "execution_count": 12,
     "metadata": {},
     "output_type": "execute_result"
    }
   ],
   "source": [
    "parse(input_files[0])"
   ]
  },
  {
   "cell_type": "markdown",
   "metadata": {},
   "source": [
    "### load, align, apply Laplacian-of-Gaussian filter (log)"
   ]
  },
  {
   "cell_type": "code",
   "execution_count": 11,
   "metadata": {},
   "outputs": [
    {
     "ename": "NameError",
     "evalue": "name 'description' is not defined",
     "output_type": "error",
     "traceback": [
      "\u001b[0;31m---------------------------------------------------------------------------\u001b[0m",
      "\u001b[0;31mNameError\u001b[0m                                 Traceback (most recent call last)",
      "Cell \u001b[0;32mIn[11], line 3\u001b[0m\n\u001b[1;32m      1\u001b[0m data \u001b[38;5;241m=\u001b[39m np\u001b[38;5;241m.\u001b[39marray([read(f) \u001b[38;5;28;01mfor\u001b[39;00m f \u001b[38;5;129;01min\u001b[39;00m input_files])\n\u001b[1;32m      2\u001b[0m aligned \u001b[38;5;241m=\u001b[39m Snake\u001b[38;5;241m.\u001b[39m_align_SBS(data, method\u001b[38;5;241m=\u001b[39m\u001b[38;5;124m'\u001b[39m\u001b[38;5;124mDAPI\u001b[39m\u001b[38;5;124m'\u001b[39m)\n\u001b[0;32m----> 3\u001b[0m save(name(\u001b[43mdescription\u001b[49m, tag\u001b[38;5;241m=\u001b[39m\u001b[38;5;124m'\u001b[39m\u001b[38;5;124maligned\u001b[39m\u001b[38;5;124m'\u001b[39m), aligned)\n",
      "\u001b[0;31mNameError\u001b[0m: name 'description' is not defined"
     ]
    }
   ],
   "source": [
    "data = np.array([read(f) for f in input_files])\n",
    "aligned = Snake._align_SBS(data, method='DAPI')\n",
    "save(name(description, tag='aligned'), aligned)"
   ]
  },
  {
   "cell_type": "code",
   "execution_count": 8,
   "metadata": {},
   "outputs": [
    {
     "ename": "NameError",
     "evalue": "name 'description' is not defined",
     "output_type": "error",
     "traceback": [
      "\u001b[0;31m---------------------------------------------------------------------------\u001b[0m",
      "\u001b[0;31mNameError\u001b[0m                                 Traceback (most recent call last)",
      "Cell \u001b[0;32mIn[8], line 2\u001b[0m\n\u001b[1;32m      1\u001b[0m loged \u001b[38;5;241m=\u001b[39m Snake\u001b[38;5;241m.\u001b[39m_transform_log(aligned, skip_index\u001b[38;5;241m=\u001b[39m\u001b[38;5;241m0\u001b[39m)\n\u001b[0;32m----> 2\u001b[0m save(name(\u001b[43mdescription\u001b[49m, tag\u001b[38;5;241m=\u001b[39m\u001b[38;5;124m'\u001b[39m\u001b[38;5;124mlog\u001b[39m\u001b[38;5;124m'\u001b[39m), loged)\n",
      "\u001b[0;31mNameError\u001b[0m: name 'description' is not defined"
     ]
    }
   ],
   "source": [
    "loged = Snake._transform_log(aligned, skip_index=0)\n",
    "save(name(description, tag='log'), loged)\n"
   ]
  },
  {
   "cell_type": "code",
   "execution_count": 24,
   "metadata": {},
   "outputs": [
    {
     "name": "stdout",
     "output_type": "stream",
     "text": [
      "(5, 5, 2304, 2304)\n"
     ]
    }
   ],
   "source": [
    "print(data.shape)"
   ]
  },
  {
   "cell_type": "code",
   "execution_count": 25,
   "metadata": {},
   "outputs": [],
   "source": [
    "maxed = Snake._max_filter(loged, 3, remove_index=0)\n",
    "save(name(description, tag='maxed'), maxed)"
   ]
  },
  {
   "cell_type": "code",
   "execution_count": 15,
   "metadata": {},
   "outputs": [],
   "source": [
    "#matplotCreation3(maxed,200,200,200)"
   ]
  },
  {
   "cell_type": "code",
   "execution_count": 26,
   "metadata": {},
   "outputs": [
    {
     "name": "stdout",
     "output_type": "stream",
     "text": [
      "(5, 4, 2304, 2304)\n"
     ]
    }
   ],
   "source": [
    "print(maxed.shape)"
   ]
  },
  {
   "cell_type": "markdown",
   "metadata": {},
   "source": [
    "### detect candidate reads"
   ]
  },
  {
   "cell_type": "code",
   "execution_count": 28,
   "metadata": {},
   "outputs": [],
   "source": [
    "std = Snake._compute_std(loged, remove_index=0)\n",
    "save(name(description, tag='std'), std)"
   ]
  },
  {
   "cell_type": "code",
   "execution_count": 29,
   "metadata": {},
   "outputs": [
    {
     "ename": "NameError",
     "evalue": "name 'matplotCreation' is not defined",
     "output_type": "error",
     "traceback": [
      "\u001b[0;31m---------------------------------------------------------------------------\u001b[0m",
      "\u001b[0;31mNameError\u001b[0m                                 Traceback (most recent call last)",
      "Cell \u001b[0;32mIn[29], line 1\u001b[0m\n\u001b[0;32m----> 1\u001b[0m \u001b[43mmatplotCreation\u001b[49m(std,\u001b[38;5;241m200\u001b[39m,\u001b[38;5;241m200\u001b[39m,\u001b[38;5;241m200\u001b[39m)\n",
      "\u001b[0;31mNameError\u001b[0m: name 'matplotCreation' is not defined"
     ]
    }
   ],
   "source": [
    "matplotCreation(std,200,200,200)"
   ]
  },
  {
   "cell_type": "code",
   "execution_count": 19,
   "metadata": {},
   "outputs": [
    {
     "name": "stdout",
     "output_type": "stream",
     "text": [
      "(1024, 1024)\n"
     ]
    }
   ],
   "source": [
    "print(std.shape)"
   ]
  },
  {
   "cell_type": "code",
   "execution_count": 32,
   "metadata": {},
   "outputs": [],
   "source": [
    "peaks = Snake._find_peaks(std)\n",
    "save(name(description, tag='peaks'), peaks)"
   ]
  },
  {
   "cell_type": "code",
   "execution_count": 33,
   "metadata": {},
   "outputs": [
    {
     "data": {
      "image/png": "[encoded data removed]",
      "text/plain": [
       "<Figure size 640x480 with 1 Axes>"
      ]
     },
     "metadata": {},
     "output_type": "display_data"
    },
    {
     "data": {
      "text/plain": [
       "<module 'matplotlib.pyplot' from '/Users/sagarm2/opt/miniconda3/lib/python3.9/site-packages/matplotlib/pyplot.py'>"
      ]
     },
     "execution_count": 33,
     "metadata": {},
     "output_type": "execute_result"
    }
   ],
   "source": [
    "matplotCreation(peaks,200,200,200)"
   ]
  },
  {
   "cell_type": "code",
   "execution_count": 34,
   "metadata": {},
   "outputs": [
    {
     "name": "stdout",
     "output_type": "stream",
     "text": [
      "(2304, 2304)\n"
     ]
    }
   ],
   "source": [
    "print(peaks.shape)"
   ]
  },
  {
   "cell_type": "markdown",
   "metadata": {},
   "source": [
    "### segment nuclei and cells"
   ]
  },
  {
   "cell_type": "code",
   "execution_count": 37,
   "metadata": {},
   "outputs": [],
   "source": [
    "nuclei = Snake._segment_nuclei(data[0], THRESHOLD_DAPI,\n",
    " area_min=NUCLEUS_AREA[0], area_max=NUCLEUS_AREA[1])\n",
    "\n",
    "save(name(description, tag='nuclei'), nuclei)"
   ]
  },
  {
   "cell_type": "code",
   "execution_count": 36,
   "metadata": {},
   "outputs": [
    {
     "data": {
      "image/png": "[encoded data removed]",
      "text/plain": [
       "<Figure size 800x600 with 1 Axes>"
      ]
     },
     "metadata": {},
     "output_type": "display_data"
    },
    {
     "data": {
      "text/plain": [
       "<module 'matplotlib.pyplot' from '/Users/sagarm2/opt/miniconda3/lib/python3.9/site-packages/matplotlib/pyplot.py'>"
      ]
     },
     "execution_count": 36,
     "metadata": {},
     "output_type": "execute_result"
    }
   ],
   "source": [
    "matplotCreation(nuclei,200,200,200)"
   ]
  },
  {
   "cell_type": "code",
   "execution_count": 38,
   "metadata": {},
   "outputs": [
    {
     "name": "stdout",
     "output_type": "stream",
     "text": [
      "(2304, 2304)\n"
     ]
    }
   ],
   "source": [
    "print(nuclei.shape)"
   ]
  },
  {
   "cell_type": "code",
   "execution_count": 39,
   "metadata": {},
   "outputs": [],
   "source": [
    "cells = Snake._segment_cells(data[0], nuclei, THRESHOLD_CELL)\n",
    "save(name(description, tag='cells'), cells)\n"
   ]
  },
  {
   "cell_type": "code",
   "execution_count": 40,
   "metadata": {},
   "outputs": [
    {
     "data": {
      "image/png": "[encoded data removed]",
      "text/plain": [
       "<Figure size 800x600 with 1 Axes>"
      ]
     },
     "metadata": {},
     "output_type": "display_data"
    },
    {
     "data": {
      "text/plain": [
       "<module 'matplotlib.pyplot' from '/Users/sagarm2/opt/miniconda3/lib/python3.9/site-packages/matplotlib/pyplot.py'>"
      ]
     },
     "execution_count": 40,
     "metadata": {},
     "output_type": "execute_result"
    }
   ],
   "source": [
    "matplotCreation(cells,200,200,200)"
   ]
  },
  {
   "cell_type": "code",
   "execution_count": 28,
   "metadata": {},
   "outputs": [],
   "source": [
    "import ops.in_situ\n",
    "import ops.firesnake "
   ]
  },
  {
   "cell_type": "markdown",
   "metadata": {},
   "source": [
    "### extract base intensity, call reads, assign to cells"
   ]
  },
  {
   "cell_type": "code",
   "execution_count": null,
   "metadata": {},
   "outputs": [],
   "source": []
  },
  {
   "cell_type": "code",
   "execution_count": 41,
   "metadata": {
    "code_folding": []
   },
   "outputs": [
    {
     "name": "stdout",
     "output_type": "stream",
     "text": [
      "test\n",
      "see if this work\n",
      "failed to reshape extracted pixels to sequencing bases, writing empty table\n"
     ]
    },
    {
     "ename": "ValueError",
     "evalue": "not enough values to unpack (expected 2, got 0)",
     "output_type": "error",
     "traceback": [
      "\u001b[0;31m---------------------------------------------------------------------------\u001b[0m",
      "\u001b[0;31mValueError\u001b[0m                                Traceback (most recent call last)",
      "Cell \u001b[0;32mIn[41], line 1\u001b[0m\n\u001b[0;32m----> 1\u001b[0m df_bases, index, values, labels, positions \u001b[38;5;241m=\u001b[39m \u001b[43mSnake\u001b[49m\u001b[38;5;241;43m.\u001b[39;49m\u001b[43m_extract_bases\u001b[49m\u001b[43m(\u001b[49m\u001b[43mmaxed\u001b[49m\u001b[43m,\u001b[49m\u001b[43m \u001b[49m\u001b[43mpeaks\u001b[49m\u001b[43m,\u001b[49m\u001b[43m \u001b[49m\u001b[43mcells\u001b[49m\u001b[43m,\u001b[49m\u001b[43m \u001b[49m\n\u001b[1;32m      2\u001b[0m \u001b[43m                        \u001b[49m\u001b[43mTHRESHOLD_STD\u001b[49m\u001b[43m,\u001b[49m\u001b[43m \u001b[49m\u001b[43mwildcards\u001b[49m\u001b[38;5;241;43m=\u001b[39;49m\u001b[43mWILDCARDS\u001b[49m\u001b[43m)\u001b[49m\n\u001b[1;32m      5\u001b[0m df_bases\u001b[38;5;241m.\u001b[39mto_csv(name(description, tag\u001b[38;5;241m=\u001b[39m\u001b[38;5;124m'\u001b[39m\u001b[38;5;124mbases\u001b[39m\u001b[38;5;124m'\u001b[39m, ext\u001b[38;5;241m=\u001b[39m\u001b[38;5;124m'\u001b[39m\u001b[38;5;124mcsv\u001b[39m\u001b[38;5;124m'\u001b[39m), index\u001b[38;5;241m=\u001b[39m\u001b[38;5;28;01mNone\u001b[39;00m)\n",
      "File \u001b[0;32m~/Documents/OpticalPooledscreen/OpticalPooledScreens_2019-master/ops/firesnake.py:231\u001b[0m, in \u001b[0;36mSnake._extract_bases\u001b[0;34m(maxed, peaks, cells, threshold_peaks, wildcards, bases)\u001b[0m\n\u001b[1;32m    226\u001b[0m bases \u001b[38;5;241m=\u001b[39m \u001b[38;5;28mlist\u001b[39m(bases)\n\u001b[1;32m    228\u001b[0m values, labels, positions \u001b[38;5;241m=\u001b[39m (\n\u001b[1;32m    229\u001b[0m     ops\u001b[38;5;241m.\u001b[39min_situ\u001b[38;5;241m.\u001b[39mextract_base_intensity(maxed, peaks, cells, threshold_peaks))\n\u001b[0;32m--> 231\u001b[0m df_bases, index \u001b[38;5;241m=\u001b[39m ops\u001b[38;5;241m.\u001b[39min_situ\u001b[38;5;241m.\u001b[39mformat_bases(values, labels, positions, cycles, bases)\n\u001b[1;32m    233\u001b[0m \u001b[38;5;28;01mfor\u001b[39;00m k,v \u001b[38;5;129;01min\u001b[39;00m \u001b[38;5;28msorted\u001b[39m(wildcards\u001b[38;5;241m.\u001b[39mitems()):\n\u001b[1;32m    234\u001b[0m     df_bases[k] \u001b[38;5;241m=\u001b[39m v\n",
      "\u001b[0;31mValueError\u001b[0m: not enough values to unpack (expected 2, got 0)"
     ]
    }
   ],
   "source": [
    "df_bases, index, values, labels, positions = Snake._extract_bases(maxed, peaks, cells, \n",
    "                        THRESHOLD_STD, wildcards=WILDCARDS)\n",
    "\n",
    "            \n",
    "df_bases.to_csv(name(description, tag='bases', ext='csv'), index=None)"
   ]
  },
  {
   "cell_type": "code",
   "execution_count": 30,
   "metadata": {},
   "outputs": [
    {
     "name": "stdout",
     "output_type": "stream",
     "text": [
      "(('cycle', [1, 2, 3, 4, 5, 6, 7, 8, 9, 10, 11, 12]), ('channel', ['G', 'T', 'A', 'C']))\n",
      "         read  cycle channel  intensity  cell     i    j tile well\n",
      "0           0      1       A        653     0     5   81  107   A1\n",
      "1           0      1       C        431     0     5   81  107   A1\n",
      "2           0      1       G         28     0     5   81  107   A1\n",
      "3           0      1       T         16     0     5   81  107   A1\n",
      "4           0      2       A         17     0     5   81  107   A1\n",
      "...       ...    ...     ...        ...   ...   ...  ...  ...  ...\n",
      "495547  10323     11       T          0  3630  1015  829  107   A1\n",
      "495548  10323     12       A       2322  3630  1015  829  107   A1\n",
      "495549  10323     12       C       1069  3630  1015  829  107   A1\n",
      "495550  10323     12       G        291  3630  1015  829  107   A1\n",
      "495551  10323     12       T        371  3630  1015  829  107   A1\n",
      "\n",
      "[496320 rows x 9 columns]\n",
      "after clean up \n",
      "         read  cycle channel  intensity  cell     i    j tile well\n",
      "0           0      1       A        653     0     5   81  107   A1\n",
      "1           0      1       C        431     0     5   81  107   A1\n",
      "2           0      1       G         28     0     5   81  107   A1\n",
      "3           0      1       T         16     0     5   81  107   A1\n",
      "4           0      2       A         17     0     5   81  107   A1\n",
      "...       ...    ...     ...        ...   ...   ...  ...  ...  ...\n",
      "495547  10323     11       T          0  3630  1015  829  107   A1\n",
      "495548  10323     12       A       2322  3630  1015  829  107   A1\n",
      "495549  10323     12       C       1069  3630  1015  829  107   A1\n",
      "495550  10323     12       G        291  3630  1015  829  107   A1\n",
      "495551  10323     12       T        371  3630  1015  829  107   A1\n",
      "\n",
      "[496320 rows x 9 columns]\n"
     ]
    }
   ],
   "source": [
    "print(index)\n",
    "print(df_bases)\n",
    "print(\"after clean up \")\n",
    "df_temp_sorted=df_bases.sort_values([\"well\", \"tile\", \"cell\", \"read\", \"cycle\", \"channel\"]);\n",
    "print(df_temp_sorted)\n"
   ]
  },
  {
   "cell_type": "code",
   "execution_count": 67,
   "metadata": {},
   "outputs": [
    {
     "name": "stdout",
     "output_type": "stream",
     "text": [
      "[[   5   81]\n",
      " [   5  226]\n",
      " [   5  232]\n",
      " ...\n",
      " [1018  708]\n",
      " [1018  771]\n",
      " [1018  792]]\n"
     ]
    }
   ],
   "source": [
    "print(positions)"
   ]
  },
  {
   "cell_type": "code",
   "execution_count": null,
   "metadata": {},
   "outputs": [],
   "source": []
  },
  {
   "cell_type": "code",
   "execution_count": 17,
   "metadata": {},
   "outputs": [
    {
     "name": "stdout",
     "output_type": "stream",
     "text": [
      "cycle      1                      2                    3        ...    10  \\\n",
      "channel     G    T     A     C     G     T    A    C    G    T  ...     A   \n",
      "0          28   16   653   431   596    12   17   29   61   22  ...  1002   \n",
      "1          37   41   879   521   801    17   12   13   48   77  ...  1149   \n",
      "2          74   40   744   464   642    36   21   62   61  115  ...  1240   \n",
      "3          32   36    80   646   220  1064   25   38   50   75  ...   515   \n",
      "4         120  212   122   598   313  1631   67  169  166  271  ...  1794   \n",
      "...       ...  ...   ...   ...   ...   ...  ...  ...  ...  ...  ...   ...   \n",
      "10335      48  360   136  1285   400  1808  130  384    0    0  ...  2628   \n",
      "10336    3275  121    46    99   117   147  690  565    0    0  ...  2284   \n",
      "10337      19   26  1091   716  1139   376  114  281    0    0  ...  2093   \n",
      "10338      88  102    92   766   278  1695   86  266    0    0  ...  1703   \n",
      "10339      35   81  1298   685  1073   112   96  217    0    0  ...  2072   \n",
      "\n",
      "cycle           11                    12                    \n",
      "channel     C    G    T     A     C    G     T     A     C  \n",
      "0         284   43   90   232   537  867    80    43    65  \n",
      "1         390   29  156   271   717  334  2720   135   152  \n",
      "2         497   66  174   400   831  449  2408   202   163  \n",
      "3         462   10   51  2075   557   12    31  1676   506  \n",
      "4         838  223  250   815  1560  144   231  1866  1081  \n",
      "...       ...  ...  ...   ...   ...  ...   ...   ...   ...  \n",
      "10335     985    0    0     0     0    0     0     0     0  \n",
      "10336    1278    0    0     0     0    0     0     0     0  \n",
      "10337    1189    0    0     0     0    0     0     0     0  \n",
      "10338     812    0    0     0     0    0     0     0     0  \n",
      "10339     950    0    0     0     0    0     0     0     0  \n",
      "\n",
      "[10340 rows x 48 columns]\n"
     ]
    }
   ],
   "source": [
    "df_temp = ops.utils.ndarray_to_dataframe(values,index)\n",
    "print(df_temp)"
   ]
  },
  {
   "cell_type": "code",
   "execution_count": 18,
   "metadata": {},
   "outputs": [],
   "source": [
    "#df_temp = (df_temp.stack([\"cycle\", \"channel\"]))\n",
    "df_positions = pd.DataFrame(positions, columns=[\"i\", \"j\"])"
   ]
  },
  {
   "cell_type": "code",
   "execution_count": 68,
   "metadata": {},
   "outputs": [
    {
     "name": "stdout",
     "output_type": "stream",
     "text": [
      "         read  cycle channel  intensity  cell     i    j tile well\n",
      "0           0      1       A        653     0     5   81  107   A1\n",
      "1           0      1       C        431     0     5   81  107   A1\n",
      "2           0      1       G         28     0     5   81  107   A1\n",
      "3           0      1       T         16     0     5   81  107   A1\n",
      "4           0      2       A         17     0     5   81  107   A1\n",
      "...       ...    ...     ...        ...   ...   ...  ...  ...  ...\n",
      "495547  10323     11       T          0  3630  1015  829  107   A1\n",
      "495548  10323     12       A       2322  3630  1015  829  107   A1\n",
      "495549  10323     12       C       1069  3630  1015  829  107   A1\n",
      "495550  10323     12       G        291  3630  1015  829  107   A1\n",
      "495551  10323     12       T        371  3630  1015  829  107   A1\n",
      "\n",
      "[496320 rows x 9 columns]\n",
      "[ 0  0 45 ...  0  0  0]\n"
     ]
    }
   ],
   "source": [
    "print(df_bases)\n",
    "print(labels)"
   ]
  },
  {
   "cell_type": "code",
   "execution_count": 35,
   "metadata": {},
   "outputs": [],
   "source": [
    "    df = (df_temp.stack([\"cycle\", \"channel\"])\n",
    "       .reset_index()\n",
    "       .rename(columns={0: \"intensity\", 'level_0': \"read\"})\n",
    "       .join(pd.Series(labels, name=\"cell\"), on=\"read\")\n",
    "       .join(df_positions, on=\"read\")\n",
    "       .sort_values([\"cell\", \"read\", \"cycle\"])\n",
    "       )"
   ]
  },
  {
   "cell_type": "code",
   "execution_count": 36,
   "metadata": {},
   "outputs": [
    {
     "name": "stdout",
     "output_type": "stream",
     "text": [
      "         read  cycle channel  intensity  cell     i    j\n",
      "0           0      1       A        653     0     5   81\n",
      "1           0      1       C        431     0     5   81\n",
      "2           0      1       G         28     0     5   81\n",
      "3           0      1       T         16     0     5   81\n",
      "4           0      2       A         17     0     5   81\n",
      "...       ...    ...     ...        ...   ...   ...  ...\n",
      "495547  10323     11       T          0  3630  1015  829\n",
      "495548  10323     12       A       2322  3630  1015  829\n",
      "495549  10323     12       C       1069  3630  1015  829\n",
      "495550  10323     12       G        291  3630  1015  829\n",
      "495551  10323     12       T        371  3630  1015  829\n",
      "\n",
      "[496320 rows x 7 columns]\n"
     ]
    }
   ],
   "source": [
    "print(df)"
   ]
  },
  {
   "cell_type": "code",
   "execution_count": 24,
   "metadata": {},
   "outputs": [
    {
     "name": "stdout",
     "output_type": "stream",
     "text": [
      "printing X sent to medians\n",
      "[[[  70  438    0    3]\n",
      "  [ 679  187    0    0]\n",
      "  [   0    0  334 2632]\n",
      "  ...\n",
      "  [   0    0  456    0]\n",
      "  [   0    0   40  637]\n",
      "  [  90  313    0    0]]\n",
      "\n",
      " [[  47  433    7   85]\n",
      "  [ 796  299    0   53]\n",
      "  [  25    9  376 2710]\n",
      "  ...\n",
      "  [  24   10  587   39]\n",
      "  [  20    0   42  487]\n",
      "  [  46  345   42  210]]\n",
      "\n",
      " [[  68   92  517 2785]\n",
      "  [  43   76  633 3101]\n",
      "  [  53  125 1181  127]\n",
      "  ...\n",
      "  [ 379  203   86  105]\n",
      "  [  51   95  310 1267]\n",
      "  [  82  140  464 2618]]\n",
      "\n",
      " ...\n",
      "\n",
      " [[ 114  456  131  135]\n",
      "  [  77  126  409 2532]\n",
      "  [   0    0    0    0]\n",
      "  ...\n",
      "  [ 566  542  297  204]\n",
      "  [ 231  437  604 2529]\n",
      "  [ 819  524  167  167]]\n",
      "\n",
      " [[  24   60  365 2821]\n",
      "  [  40   46 1228   74]\n",
      "  [ 459  285  110  121]\n",
      "  ...\n",
      "  [  30   68  185 1229]\n",
      "  [  67  279   56   93]\n",
      "  [  49  137  283 2214]]\n",
      "\n",
      " [[ 105   87 2135  166]\n",
      "  [ 258  414 1705  440]\n",
      "  [   0    0    0    0]\n",
      "  ...\n",
      "  [ 273  507 1298  444]\n",
      "  [ 305   45  651 1008]\n",
      "  [ 727  824  596  575]]]\n",
      "before call barcode\n",
      "        read  cycle channel  intensity  cell     i    j tile well\n",
      "0          0      1       A       1061     0     5  318    7   A1\n",
      "1          0      1       C        505     0     5  318    7   A1\n",
      "2          0      1       G         45     0     5  318    7   A1\n",
      "3          0      1       T         49     0     5  318    7   A1\n",
      "4          0      2       A         58     0     5  318    7   A1\n",
      "...      ...    ...     ...        ...   ...   ...  ...  ...  ...\n",
      "165523  4597      8       T       1008  3335  1012  230    7   A1\n",
      "165524  4597      9       A        727  3335  1012  230    7   A1\n",
      "165525  4597      9       C        824  3335  1012  230    7   A1\n",
      "165526  4597      9       G        596  3335  1012  230    7   A1\n",
      "165527  4597      9       T        575  3335  1012  230    7   A1\n",
      "\n",
      "[165708 rows x 9 columns]\n",
      "[[[1895  -56  -81  -97]\n",
      "  [ -33 -149    0 4421]\n",
      "  [ -32  -41 1621   20]\n",
      "  ...\n",
      "  [1070  -52  -13  -34]\n",
      "  [   7  -71 1369  -42]\n",
      "  [1202    2   30  -37]]\n",
      "\n",
      " [[ -44  -38  -72 2743]\n",
      "  [ -58  -60   28 3114]\n",
      "  [  34  451  -20    4]\n",
      "  ...\n",
      "  [  -9  -45  -42 1517]\n",
      "  [ -44  -20   19 1535]\n",
      "  [  -1  522   10   57]]\n",
      "\n",
      " [[   1 -195   99 3764]\n",
      "  [ -21  -90   73 3051]\n",
      "  [ -68 -176   32 4481]\n",
      "  ...\n",
      "  [ -13  -45  -32 1357]\n",
      "  [ -66  435  -22    0]\n",
      "  [ -26 -160 1973  -94]]\n",
      "\n",
      " ...\n",
      "\n",
      " [[  -5  748   47   46]\n",
      "  [   8   19  -60 3177]\n",
      "  [   0    0    0    0]\n",
      "  ...\n",
      "  [ 855  458  210   84]\n",
      "  [ 154  449  122 3074]\n",
      "  [1385  195   50   45]]\n",
      "\n",
      " [[ -71  -64 -164 3570]\n",
      "  [ -14  -80 1514  -31]\n",
      "  [ 779   89   44   61]\n",
      "  ...\n",
      "  [ -13   30  -47 1542]\n",
      "  [  -8  462   -3   44]\n",
      "  [ -39   93 -151 2779]]\n",
      "\n",
      " [[  42 -161 2621   -9]\n",
      "  [ 208  352 1958  297]\n",
      "  [   0    0    0    0]\n",
      "  ...\n",
      "  [ 215  559 1429  317]\n",
      "  [ 533 -316  579 1212]\n",
      "  [1016  799  447  459]]]\n"
     ]
    }
   ],
   "source": [
    "df_reads = Snake._call_reads(df_bases) # does the quality Q index calculation\n",
    "filename = name(description, tag='reads', ext='csv')\n",
    "df_reads.to_csv(filename, index=None)"
   ]
  },
  {
   "cell_type": "code",
   "execution_count": 25,
   "metadata": {},
   "outputs": [
    {
     "name": "stdout",
     "output_type": "stream",
     "text": [
      "(4603, 17)\n",
      "        read  cell     i    j tile well    barcode       Q_0       Q_1  \\\n",
      "0          0     0     5  318    7   A1  ATGACGAGA  0.924105  1.000000   \n",
      "36         1     0     5  339    7   A1  TTCCTATTC  1.000000  1.000000   \n",
      "72         2     0     5  525    7   A1  TTTATGTCG  0.878977  0.923840   \n",
      "108        3     0     5  534    7   A1  TTTATGTCG  1.000000  0.953716   \n",
      "144        4     0     6  186    7   A1  TCATCGCAA  0.969053  1.000000   \n",
      "...      ...   ...   ...  ...  ...  ...        ...       ...       ...   \n",
      "163944  4554  3318   997  123    7   A1  GCTCATAGG  1.000000  1.000000   \n",
      "164916  4581  3326  1006  175    7   A1  CTCGTCATA  1.000000  1.000000   \n",
      "165384  4594  3326  1010  174    7   A1  CTAGTCATA  0.824236  1.000000   \n",
      "164700  4575  3330  1004  522    7   A1  TGACAATCT  0.975745  1.000000   \n",
      "165492  4597  3335  1012  230    7   A1  GGATACGTA  1.000000  0.451516   \n",
      "\n",
      "             Q_2       Q_3       Q_4       Q_5       Q_6       Q_7       Q_8  \\\n",
      "0       1.000000  1.000000  1.000000  1.000000  1.000000  1.000000  1.000000   \n",
      "36      0.828129  1.000000  1.000000  1.000000  1.000000  1.000000  0.697583   \n",
      "72      1.000000  1.000000  1.000000  0.970541  1.000000  1.000000  1.000000   \n",
      "108     0.751576  1.000000  1.000000  0.910166  0.689882  0.942548  0.998219   \n",
      "144     1.000000  1.000000  0.966713  1.000000  0.916714  0.675614  0.848098   \n",
      "...          ...       ...       ...       ...       ...       ...       ...   \n",
      "163944  1.000000  1.000000  1.000000  1.000000  0.628995  1.000000  1.000000   \n",
      "164916  0.383941  1.000000  0.827298  0.830409  1.000000  1.000000  0.588721   \n",
      "165384  0.000000  0.308629  0.659650  0.759515  0.184265  0.478104  0.539522   \n",
      "164700  0.645505  1.000000  0.859488  0.775626  1.000000  0.752862  0.851563   \n",
      "165492  0.000000  0.408687  0.000737  0.545404  0.257746  0.207536  0.069231   \n",
      "\n",
      "           Q_min  \n",
      "0       0.924105  \n",
      "36      0.697583  \n",
      "72      0.878977  \n",
      "108     0.689882  \n",
      "144     0.675614  \n",
      "...          ...  \n",
      "163944  0.628995  \n",
      "164916  0.383941  \n",
      "165384  0.000000  \n",
      "164700  0.645505  \n",
      "165492  0.000000  \n",
      "\n",
      "[4603 rows x 17 columns]\n"
     ]
    }
   ],
   "source": [
    "print(df_reads.shape)\n",
    "print(df_reads)"
   ]
  },
  {
   "cell_type": "code",
   "execution_count": 26,
   "metadata": {},
   "outputs": [
    {
     "name": "stdout",
     "output_type": "stream",
     "text": [
      "[('tile', '7'), ('well', 'A1')]\n",
      "tile 7\n",
      "well A1\n"
     ]
    }
   ],
   "source": [
    "print(sorted(WILDCARDS.items()))\n",
    "for k,v in sorted(WILDCARDS.items()):\n",
    "    print (k,v)\n",
    "    df_bases[k] = v"
   ]
  },
  {
   "cell_type": "code",
   "execution_count": 27,
   "metadata": {},
   "outputs": [
    {
     "name": "stdout",
     "output_type": "stream",
     "text": [
      "        read  cell     i    j tile well    barcode       Q_0       Q_1  \\\n",
      "0          0     0     5  318    7   A1  ATGACGAGA  0.924105  1.000000   \n",
      "36         1     0     5  339    7   A1  TTCCTATTC  1.000000  1.000000   \n",
      "72         2     0     5  525    7   A1  TTTATGTCG  0.878977  0.923840   \n",
      "108        3     0     5  534    7   A1  TTTATGTCG  1.000000  0.953716   \n",
      "144        4     0     6  186    7   A1  TCATCGCAA  0.969053  1.000000   \n",
      "...      ...   ...   ...  ...  ...  ...        ...       ...       ...   \n",
      "163944  4554  3318   997  123    7   A1  GCTCATAGG  1.000000  1.000000   \n",
      "164916  4581  3326  1006  175    7   A1  CTCGTCATA  1.000000  1.000000   \n",
      "165384  4594  3326  1010  174    7   A1  CTAGTCATA  0.824236  1.000000   \n",
      "164700  4575  3330  1004  522    7   A1  TGACAATCT  0.975745  1.000000   \n",
      "165492  4597  3335  1012  230    7   A1  GGATACGTA  1.000000  0.451516   \n",
      "\n",
      "             Q_2       Q_3       Q_4       Q_5       Q_6       Q_7       Q_8  \\\n",
      "0       1.000000  1.000000  1.000000  1.000000  1.000000  1.000000  1.000000   \n",
      "36      0.828129  1.000000  1.000000  1.000000  1.000000  1.000000  0.697583   \n",
      "72      1.000000  1.000000  1.000000  0.970541  1.000000  1.000000  1.000000   \n",
      "108     0.751576  1.000000  1.000000  0.910166  0.689882  0.942548  0.998219   \n",
      "144     1.000000  1.000000  0.966713  1.000000  0.916714  0.675614  0.848098   \n",
      "...          ...       ...       ...       ...       ...       ...       ...   \n",
      "163944  1.000000  1.000000  1.000000  1.000000  0.628995  1.000000  1.000000   \n",
      "164916  0.383941  1.000000  0.827298  0.830409  1.000000  1.000000  0.588721   \n",
      "165384  0.000000  0.308629  0.659650  0.759515  0.184265  0.478104  0.539522   \n",
      "164700  0.645505  1.000000  0.859488  0.775626  1.000000  0.752862  0.851563   \n",
      "165492  0.000000  0.408687  0.000737  0.545404  0.257746  0.207536  0.069231   \n",
      "\n",
      "           Q_min  \n",
      "0       0.924105  \n",
      "36      0.697583  \n",
      "72      0.878977  \n",
      "108     0.689882  \n",
      "144     0.675614  \n",
      "...          ...  \n",
      "163944  0.628995  \n",
      "164916  0.383941  \n",
      "165384  0.000000  \n",
      "164700  0.645505  \n",
      "165492  0.000000  \n",
      "\n",
      "[4603 rows x 17 columns]\n"
     ]
    }
   ],
   "source": [
    "print(df_reads)"
   ]
  },
  {
   "cell_type": "code",
   "execution_count": 28,
   "metadata": {},
   "outputs": [
    {
     "data": {
      "text/html": [
       "<div>\n",
       "<style scoped>\n",
       "    .dataframe tbody tr th:only-of-type {\n",
       "        vertical-align: middle;\n",
       "    }\n",
       "\n",
       "    .dataframe tbody tr th {\n",
       "        vertical-align: top;\n",
       "    }\n",
       "\n",
       "    .dataframe thead th {\n",
       "        text-align: right;\n",
       "    }\n",
       "</style>\n",
       "<table border=\"1\" class=\"dataframe\">\n",
       "  <thead>\n",
       "    <tr style=\"text-align: right;\">\n",
       "      <th></th>\n",
       "      <th>read</th>\n",
       "      <th>cell</th>\n",
       "      <th>i</th>\n",
       "      <th>j</th>\n",
       "      <th>Q_0</th>\n",
       "      <th>Q_1</th>\n",
       "      <th>Q_2</th>\n",
       "      <th>Q_3</th>\n",
       "      <th>Q_4</th>\n",
       "      <th>Q_5</th>\n",
       "      <th>Q_6</th>\n",
       "      <th>Q_7</th>\n",
       "      <th>Q_8</th>\n",
       "      <th>Q_min</th>\n",
       "    </tr>\n",
       "  </thead>\n",
       "  <tbody>\n",
       "    <tr>\n",
       "      <th>count</th>\n",
       "      <td>4603.000000</td>\n",
       "      <td>4603.000000</td>\n",
       "      <td>4603.000000</td>\n",
       "      <td>4603.000000</td>\n",
       "      <td>4603.000000</td>\n",
       "      <td>4603.000000</td>\n",
       "      <td>4603.000000</td>\n",
       "      <td>4603.000000</td>\n",
       "      <td>4603.000000</td>\n",
       "      <td>4603.000000</td>\n",
       "      <td>4603.000000</td>\n",
       "      <td>4603.000000</td>\n",
       "      <td>4603.000000</td>\n",
       "      <td>4603.000000</td>\n",
       "    </tr>\n",
       "    <tr>\n",
       "      <th>mean</th>\n",
       "      <td>2301.000000</td>\n",
       "      <td>1617.409733</td>\n",
       "      <td>477.651749</td>\n",
       "      <td>456.300239</td>\n",
       "      <td>0.865676</td>\n",
       "      <td>0.888539</td>\n",
       "      <td>0.833771</td>\n",
       "      <td>0.825813</td>\n",
       "      <td>0.814547</td>\n",
       "      <td>0.786741</td>\n",
       "      <td>0.777696</td>\n",
       "      <td>0.785898</td>\n",
       "      <td>0.765680</td>\n",
       "      <td>0.552314</td>\n",
       "    </tr>\n",
       "    <tr>\n",
       "      <th>std</th>\n",
       "      <td>1328.915974</td>\n",
       "      <td>919.988592</td>\n",
       "      <td>269.510241</td>\n",
       "      <td>274.775839</td>\n",
       "      <td>0.182763</td>\n",
       "      <td>0.177837</td>\n",
       "      <td>0.231499</td>\n",
       "      <td>0.217414</td>\n",
       "      <td>0.217400</td>\n",
       "      <td>0.228996</td>\n",
       "      <td>0.237229</td>\n",
       "      <td>0.231204</td>\n",
       "      <td>0.235895</td>\n",
       "      <td>0.230001</td>\n",
       "    </tr>\n",
       "    <tr>\n",
       "      <th>min</th>\n",
       "      <td>0.000000</td>\n",
       "      <td>0.000000</td>\n",
       "      <td>5.000000</td>\n",
       "      <td>5.000000</td>\n",
       "      <td>0.002722</td>\n",
       "      <td>0.000000</td>\n",
       "      <td>0.000000</td>\n",
       "      <td>0.000000</td>\n",
       "      <td>0.000000</td>\n",
       "      <td>0.000000</td>\n",
       "      <td>0.000000</td>\n",
       "      <td>0.000000</td>\n",
       "      <td>0.000000</td>\n",
       "      <td>0.000000</td>\n",
       "    </tr>\n",
       "    <tr>\n",
       "      <th>25%</th>\n",
       "      <td>1150.500000</td>\n",
       "      <td>857.000000</td>\n",
       "      <td>257.000000</td>\n",
       "      <td>220.000000</td>\n",
       "      <td>0.782934</td>\n",
       "      <td>0.832768</td>\n",
       "      <td>0.748733</td>\n",
       "      <td>0.714482</td>\n",
       "      <td>0.688149</td>\n",
       "      <td>0.642205</td>\n",
       "      <td>0.623128</td>\n",
       "      <td>0.648367</td>\n",
       "      <td>0.606158</td>\n",
       "      <td>0.426927</td>\n",
       "    </tr>\n",
       "    <tr>\n",
       "      <th>50%</th>\n",
       "      <td>2301.000000</td>\n",
       "      <td>1607.000000</td>\n",
       "      <td>466.000000</td>\n",
       "      <td>438.000000</td>\n",
       "      <td>0.943820</td>\n",
       "      <td>0.984474</td>\n",
       "      <td>0.927829</td>\n",
       "      <td>0.914409</td>\n",
       "      <td>0.886873</td>\n",
       "      <td>0.851447</td>\n",
       "      <td>0.838734</td>\n",
       "      <td>0.844349</td>\n",
       "      <td>0.817225</td>\n",
       "      <td>0.587481</td>\n",
       "    </tr>\n",
       "    <tr>\n",
       "      <th>75%</th>\n",
       "      <td>3451.500000</td>\n",
       "      <td>2413.000000</td>\n",
       "      <td>696.000000</td>\n",
       "      <td>675.500000</td>\n",
       "      <td>1.000000</td>\n",
       "      <td>1.000000</td>\n",
       "      <td>1.000000</td>\n",
       "      <td>1.000000</td>\n",
       "      <td>1.000000</td>\n",
       "      <td>1.000000</td>\n",
       "      <td>1.000000</td>\n",
       "      <td>1.000000</td>\n",
       "      <td>1.000000</td>\n",
       "      <td>0.721094</td>\n",
       "    </tr>\n",
       "    <tr>\n",
       "      <th>max</th>\n",
       "      <td>4602.000000</td>\n",
       "      <td>3335.000000</td>\n",
       "      <td>1014.000000</td>\n",
       "      <td>1018.000000</td>\n",
       "      <td>1.000000</td>\n",
       "      <td>1.000000</td>\n",
       "      <td>1.000000</td>\n",
       "      <td>1.000000</td>\n",
       "      <td>1.000000</td>\n",
       "      <td>1.000000</td>\n",
       "      <td>1.000000</td>\n",
       "      <td>1.000000</td>\n",
       "      <td>1.000000</td>\n",
       "      <td>1.000000</td>\n",
       "    </tr>\n",
       "  </tbody>\n",
       "</table>\n",
       "</div>"
      ],
      "text/plain": [
       "              read         cell            i            j          Q_0  \\\n",
       "count  4603.000000  4603.000000  4603.000000  4603.000000  4603.000000   \n",
       "mean   2301.000000  1617.409733   477.651749   456.300239     0.865676   \n",
       "std    1328.915974   919.988592   269.510241   274.775839     0.182763   \n",
       "min       0.000000     0.000000     5.000000     5.000000     0.002722   \n",
       "25%    1150.500000   857.000000   257.000000   220.000000     0.782934   \n",
       "50%    2301.000000  1607.000000   466.000000   438.000000     0.943820   \n",
       "75%    3451.500000  2413.000000   696.000000   675.500000     1.000000   \n",
       "max    4602.000000  3335.000000  1014.000000  1018.000000     1.000000   \n",
       "\n",
       "               Q_1          Q_2          Q_3          Q_4          Q_5  \\\n",
       "count  4603.000000  4603.000000  4603.000000  4603.000000  4603.000000   \n",
       "mean      0.888539     0.833771     0.825813     0.814547     0.786741   \n",
       "std       0.177837     0.231499     0.217414     0.217400     0.228996   \n",
       "min       0.000000     0.000000     0.000000     0.000000     0.000000   \n",
       "25%       0.832768     0.748733     0.714482     0.688149     0.642205   \n",
       "50%       0.984474     0.927829     0.914409     0.886873     0.851447   \n",
       "75%       1.000000     1.000000     1.000000     1.000000     1.000000   \n",
       "max       1.000000     1.000000     1.000000     1.000000     1.000000   \n",
       "\n",
       "               Q_6          Q_7          Q_8        Q_min  \n",
       "count  4603.000000  4603.000000  4603.000000  4603.000000  \n",
       "mean      0.777696     0.785898     0.765680     0.552314  \n",
       "std       0.237229     0.231204     0.235895     0.230001  \n",
       "min       0.000000     0.000000     0.000000     0.000000  \n",
       "25%       0.623128     0.648367     0.606158     0.426927  \n",
       "50%       0.838734     0.844349     0.817225     0.587481  \n",
       "75%       1.000000     1.000000     1.000000     0.721094  \n",
       "max       1.000000     1.000000     1.000000     1.000000  "
      ]
     },
     "execution_count": 28,
     "metadata": {},
     "output_type": "execute_result"
    }
   ],
   "source": [
    "df_reads.describe()"
   ]
  },
  {
   "cell_type": "code",
   "execution_count": 29,
   "metadata": {
    "scrolled": true
   },
   "outputs": [],
   "source": [
    "# read from csv to match numerical precision of snakemake pipeline\n",
    "df_reads = pd.read_csv(filename) \n",
    "df_cells = Snake._call_cells(df_reads)\n",
    "df_cells.to_csv(name(description, tag='cells', ext='csv'), index=None)"
   ]
  },
  {
   "cell_type": "code",
   "execution_count": 71,
   "metadata": {},
   "outputs": [
    {
     "name": "stdout",
     "output_type": "stream",
     "text": [
      "       cell  tile well cell_barcode_0  cell_barcode_count_0 cell_barcode_1  \\\n",
      "264      37   107   A1   AGATGGGTTCCG                     1            NaN   \n",
      "265      45   107   A1   AGCTTTCTGACT                     2            NaN   \n",
      "267      46   107   A1   GAATGGACAGCG                     3            NaN   \n",
      "270      49   107   A1   GAACTCAGGACA                     3            NaN   \n",
      "273      50   107   A1   AGCTTTCTGACT                     1            NaN   \n",
      "...     ...   ...  ...            ...                   ...            ...   \n",
      "10324  3626   107   A1   CTAAAAAAAAAA                     3   AGAAAAAAAAAC   \n",
      "10330  3627   107   A1   AGAAAAAAAACA                     1   AGAAAAAACACA   \n",
      "10332  3628   107   A1   GAAAAAAAGAAC                     1            NaN   \n",
      "10333  3629   107   A1   AGAATCATGACG                     3   CTAAAAAAAACA   \n",
      "10337  3630   107   A1   AGAAAAAAAAAA                     2   AGAAACATCACA   \n",
      "\n",
      "       cell_barcode_count_1  barcode_count  \n",
      "264                     0.0              1  \n",
      "265                     0.0              2  \n",
      "267                     0.0              3  \n",
      "270                     0.0              3  \n",
      "273                     0.0              1  \n",
      "...                     ...            ...  \n",
      "10324                   1.0              6  \n",
      "10330                   1.0              2  \n",
      "10332                   0.0              1  \n",
      "10333                   1.0              4  \n",
      "10337                   1.0              3  \n",
      "\n",
      "[3104 rows x 8 columns]\n"
     ]
    }
   ],
   "source": [
    "print(df_cells)"
   ]
  },
  {
   "cell_type": "code",
   "execution_count": 30,
   "metadata": {},
   "outputs": [
    {
     "data": {
      "image/png": "[encoded data removed]",
      "text/plain": [
       "<Figure size 800x600 with 1 Axes>"
      ]
     },
     "metadata": {},
     "output_type": "display_data"
    }
   ],
   "source": [
    "from matplotlib import pyplot as plt\n",
    "plt.imshow(peaks[200:400,200:400], interpolation='nearest')\n",
    "plt.rcParams['figure.figsize'] = [8, 6]\n",
    "plt.rcParams['figure.dpi'] = 100 # 200 e.g. is really fine, but slower\n",
    "plt.show()"
   ]
  },
  {
   "cell_type": "code",
   "execution_count": 45,
   "metadata": {},
   "outputs": [],
   "source": [
    "### phenotype try"
   ]
  },
  {
   "cell_type": "code",
   "execution_count": 31,
   "metadata": {},
   "outputs": [],
   "source": [
    "\n",
    "LUTS = [\n",
    "    ops.io.GRAY,\n",
    "    ops.io.GREEN,\n",
    "    ops.io.RED,\n",
    "    ops.io.MAGENTA,\n",
    "    ops.io.CYAN\n",
    "]\n"
   ]
  },
  {
   "cell_type": "code",
   "execution_count": 32,
   "metadata": {},
   "outputs": [],
   "source": [
    "\n",
    "ph_data = read(ph_input_files[0])\n",
    "ph_aligned = Snake._align_by_DAPI(data_1=data[0], data_2=ph_data)\n",
    "save(name(description, tag='phenotype_aligned'),ph_aligned, luts=LUTS[:2])"
   ]
  },
  {
   "cell_type": "code",
   "execution_count": 33,
   "metadata": {},
   "outputs": [],
   "source": [
    "df_phenotype = Snake._extract_phenotype_FR(\n",
    "    data_phenotype=ph_aligned,\n",
    "    nuclei=nuclei,\n",
    "    wildcards=WILDCARDS\n",
    ")\n",
    "df_phenotype.to_csv(name(description, tag='phenotype', ext='csv'), index=None)"
   ]
  },
  {
   "cell_type": "code",
   "execution_count": null,
   "metadata": {},
   "outputs": [],
   "source": []
  },
  {
   "cell_type": "code",
   "execution_count": 34,
   "metadata": {},
   "outputs": [],
   "source": [
    "#this following code does work now (02/21/23)\n",
    "df_phenotype = Snake._extract_named_cell_nucleus_features(\n",
    "    data=ph_aligned,\n",
    "    cells=cells,\n",
    "    nuclei=nuclei,\n",
    "    nucleus_features=[\n",
    "        'label', # required to join SBS and phenotype data\n",
    "        'i',\n",
    "        'j',\n",
    "        'area',\n",
    "        'dapi_gfp_corr',\n",
    "        'dapi_max',\n",
    "        'dapi_mean',\n",
    "        'dapi_median',\n",
    "        'gfp_max',\n",
    "        'gfp_mean',\n",
    "        'gfp_median',\n",
    "    ],\n",
    "    cell_features=['label', 'area'],\n",
    "    wildcards=WILDCARDS\n",
    ")\n",
    "df_phenotype.to_csv(name(description, tag='phenotype', ext='csv'), index=None)"
   ]
  },
  {
   "cell_type": "code",
   "execution_count": 35,
   "metadata": {},
   "outputs": [
    {
     "name": "stdout",
     "output_type": "stream",
     "text": [
      "      cell  area_cell       i_cell       j_cell    i_nucleus    j_nucleus  \\\n",
      "0       32        163    10.024540   168.153374     8.605263   167.157895   \n",
      "1       33        202     9.658416   845.608911     9.260417   845.781250   \n",
      "2       41        192    12.968750   220.385417    13.281250   221.203125   \n",
      "3       43        234    13.893162   641.397436    13.220000   641.180000   \n",
      "4       44         94    14.904255   597.787234    14.350000   596.675000   \n",
      "...    ...        ...          ...          ...          ...          ...   \n",
      "3196  3328        126  1008.833333   280.325397  1008.793651   279.698413   \n",
      "3197  3330        229  1009.078603   528.908297  1009.151515   529.262626   \n",
      "3198  3334        225  1010.048889  1002.293333  1010.118644  1003.415254   \n",
      "3199  3335        186  1010.854839   234.688172  1011.093023   234.511628   \n",
      "3200  3343        216  1013.504630   852.509259  1013.872549   853.558824   \n",
      "\n",
      "      area_nucleus  dapi_gfp_corr_nucleus  dapi_max_nucleus  \\\n",
      "0               76               0.741929              2210   \n",
      "1               96               0.548688              1986   \n",
      "2               64               0.794860              2131   \n",
      "3              100               0.784864              1665   \n",
      "4               40               0.528038              5818   \n",
      "...            ...                    ...               ...   \n",
      "3196            63               0.776652              2971   \n",
      "3197            99               0.680489              2545   \n",
      "3198           118               0.606502              1787   \n",
      "3199            86              -0.154149              4654   \n",
      "3200           102               0.852649              2402   \n",
      "\n",
      "      dapi_mean_nucleus  dapi_median_nucleus  gfp_max_nucleus  \\\n",
      "0           1613.263158               1724.0             2429   \n",
      "1           1441.177083               1496.5             1345   \n",
      "2           1689.109375               1737.5             2161   \n",
      "3           1341.750000               1399.0             1552   \n",
      "4           3051.050000               3074.5             2821   \n",
      "...                 ...                  ...              ...   \n",
      "3196        2102.920635               2139.0             1928   \n",
      "3197        1741.767677               1821.0             2049   \n",
      "3198        1254.788136               1323.5              936   \n",
      "3199        2968.360465               3179.0             1909   \n",
      "3200        1616.990196               1734.0             2123   \n",
      "\n",
      "      gfp_mean_nucleus  gfp_median_nucleus tile well  \n",
      "0          2074.381579              2121.0    7   A1  \n",
      "1          1226.062500              1224.0    7   A1  \n",
      "2          1994.734375              2005.0    7   A1  \n",
      "3          1384.870000              1385.5    7   A1  \n",
      "4          2264.975000              2256.5    7   A1  \n",
      "...                ...                 ...  ...  ...  \n",
      "3196       1747.603175              1756.0    7   A1  \n",
      "3197       1836.585859              1851.0    7   A1  \n",
      "3198        839.813559               839.5    7   A1  \n",
      "3199       1743.220930              1736.5    7   A1  \n",
      "3200       1773.558824              1778.0    7   A1  \n",
      "\n",
      "[3201 rows x 16 columns]\n"
     ]
    }
   ],
   "source": [
    "print(df_phenotype)"
   ]
  },
  {
   "cell_type": "code",
   "execution_count": 36,
   "metadata": {},
   "outputs": [],
   "source": [
    "barcodes = pd.read_csv('barcodes.csv')\n",
    "SBS_CYCLES = [1, 2, 3, 4, 5, 7, 8, 9, 10]\n",
    "DISPLAY_RANGES = [\n",
    "    [500, 15000],\n",
    "    [100, 10000],\n",
    "    [100, 20000],\n",
    "    [100, 8000],\n",
    "    [100, 6000]\n",
    "]\n",
    "\n",
    "df_combined = Snake._merge_sbs_phenotype(\n",
    "    sbs_tables=df_cells, \n",
    "    phenotype_tables=df_phenotype,\n",
    "    barcode_table=barcodes, \n",
    "    sbs_cycles=SBS_CYCLES\n",
    ")\n",
    "df_combined.to_csv(name(description, tag='combined', ext='csv'), index=None)\n",
    "#mathced values found here in df_combined"
   ]
  },
  {
   "cell_type": "code",
   "execution_count": 37,
   "metadata": {},
   "outputs": [
    {
     "name": "stdout",
     "output_type": "stream",
     "text": [
      "     well tile  cell cell_barcode_0  cell_barcode_count_0 cell_barcode_1  \\\n",
      "0      A1    7    41      CATACGGTC                   2.0            NaN   \n",
      "1      A1    7    43      TTGAAGATT                   2.0            NaN   \n",
      "2      A1    7    46      TTCATAGGA                   1.0            NaN   \n",
      "3      A1    7    54      GTAATCTAC                   1.0            NaN   \n",
      "4      A1    7    55      TAAAGGTAA                   1.0            NaN   \n",
      "...   ...  ...   ...            ...                   ...            ...   \n",
      "4896   A1    7  3328            NaN                   NaN            NaN   \n",
      "4897   A1    7  3330            NaN                   NaN            NaN   \n",
      "4898   A1    7  3334            NaN                   NaN            NaN   \n",
      "4899   A1    7  3335            NaN                   NaN            NaN   \n",
      "4900   A1    7  3343            NaN                   NaN            NaN   \n",
      "\n",
      "      cell_barcode_count_1  barcode_count  area_cell       i_cell  ...  \\\n",
      "0                      0.0            2.0        NaN          NaN  ...   \n",
      "1                      0.0            2.0        NaN          NaN  ...   \n",
      "2                      0.0            1.0        NaN          NaN  ...   \n",
      "3                      0.0            1.0        NaN          NaN  ...   \n",
      "4                      0.0            1.0        NaN          NaN  ...   \n",
      "...                    ...            ...        ...          ...  ...   \n",
      "4896                   NaN            NaN      126.0  1008.833333  ...   \n",
      "4897                   NaN            NaN      229.0  1009.078603  ...   \n",
      "4898                   NaN            NaN      225.0  1010.048889  ...   \n",
      "4899                   NaN            NaN      186.0  1010.854839  ...   \n",
      "4900                   NaN            NaN      216.0  1013.504630  ...   \n",
      "\n",
      "      dapi_max_nucleus  dapi_mean_nucleus  dapi_median_nucleus  \\\n",
      "0                  NaN                NaN                  NaN   \n",
      "1                  NaN                NaN                  NaN   \n",
      "2                  NaN                NaN                  NaN   \n",
      "3                  NaN                NaN                  NaN   \n",
      "4                  NaN                NaN                  NaN   \n",
      "...                ...                ...                  ...   \n",
      "4896            2971.0        2102.920635               2139.0   \n",
      "4897            2545.0        1741.767677               1821.0   \n",
      "4898            1787.0        1254.788136               1323.5   \n",
      "4899            4654.0        2968.360465               3179.0   \n",
      "4900            2402.0        1616.990196               1734.0   \n",
      "\n",
      "      gfp_max_nucleus  gfp_mean_nucleus  gfp_median_nucleus  sgRNA  design  \\\n",
      "0                 NaN               NaN                 NaN    NaN     NaN   \n",
      "1                 NaN               NaN                 NaN    NaN     NaN   \n",
      "2                 NaN               NaN                 NaN    NaN     NaN   \n",
      "3                 NaN               NaN                 NaN    NaN     NaN   \n",
      "4                 NaN               NaN                 NaN    NaN     NaN   \n",
      "...               ...               ...                 ...    ...     ...   \n",
      "4896           1928.0       1747.603175              1756.0    NaN     NaN   \n",
      "4897           2049.0       1836.585859              1851.0    NaN     NaN   \n",
      "4898            936.0        839.813559               839.5    NaN     NaN   \n",
      "4899           1909.0       1743.220930              1736.5    NaN     NaN   \n",
      "4900           2123.0       1773.558824              1778.0    NaN     NaN   \n",
      "\n",
      "      sgRNA_1  design_1  \n",
      "0         NaN       NaN  \n",
      "1         NaN       NaN  \n",
      "2         NaN       NaN  \n",
      "3         NaN       NaN  \n",
      "4         NaN       NaN  \n",
      "...       ...       ...  \n",
      "4896      NaN       NaN  \n",
      "4897      NaN       NaN  \n",
      "4898      NaN       NaN  \n",
      "4899      NaN       NaN  \n",
      "4900      NaN       NaN  \n",
      "\n",
      "[4901 rows x 25 columns]\n"
     ]
    }
   ],
   "source": [
    "print(df_combined)"
   ]
  },
  {
   "cell_type": "code",
   "execution_count": 36,
   "metadata": {},
   "outputs": [],
   "source": [
    "### extract base intensity, call reads, assign to cells"
   ]
  },
  {
   "cell_type": "code",
   "execution_count": 38,
   "metadata": {},
   "outputs": [],
   "source": [
    "annotate_luts = LUTS + [ops.annotate.GRMC, ops.io.GRAY]\n",
    "annotate_display_ranges = [(a/4, b/4) for a,b in DISPLAY_RANGES] + [[0, 4]]\n",
    "annotate_SBS = Snake._annotate_SBS(log=loged, df_reads=df_reads)\n",
    "save(name(description, tag='annotate_SBS'), annotate_SBS,\n",
    "     display_ranges=annotate_display_ranges, luts=annotate_luts, compress=1)"
   ]
  },
  {
   "cell_type": "code",
   "execution_count": 39,
   "metadata": {},
   "outputs": [
    {
     "name": "stderr",
     "output_type": "stream",
     "text": [
      "/Users/sagarm2/Documents/OpticalPooledscreen/OpticalPooledScreens_2019-master/ops/firesnake.py:432: FutureWarning: `selem` is a deprecated argument name for `dilation`. It will be removed in version 1.0. Please use `footprint` instead.\n",
      "  peaks_donut = skimage.morphology.dilation(peaks, selem=np.ones((3, 3)))\n"
     ]
    }
   ],
   "source": [
    "# second-to-last channel annotates base calls (notches are mapped reads, pluses are unmapped reads)\n",
    "# last channel encodes peaks value \n",
    "annotate_extra_luts = LUTS + [ops.annotate.GRMC, ops.io.GRAY, ops.io.GRAY]\n",
    "annotate_extra_display_ranges = (\n",
    "    [(a/4, b/4) for a,b in DISPLAY_RANGES]\n",
    "    +[[0, 4], [0, THRESHOLD_READS*4], [0, 30]]\n",
    ")\n",
    "annotate_SBS_extra = Snake._annotate_SBS_extra(\n",
    "    log=loged,\n",
    "    peaks=peaks,\n",
    "    df_reads=df_reads,\n",
    "    barcode_table=barcodes,\n",
    "    sbs_cycles=SBS_CYCLES\n",
    ")\n",
    "save(name(description, tag='annotate_SBS_extra'), annotate_SBS_extra,\n",
    "     display_ranges=annotate_extra_display_ranges[1:], luts=annotate_extra_luts[1:], compress=1)"
   ]
  },
  {
   "cell_type": "code",
   "execution_count": 48,
   "metadata": {},
   "outputs": [
    {
     "name": "stdout",
     "output_type": "stream",
     "text": [
      "{'well': 'A1', 'tile': '7'}\n"
     ]
    }
   ],
   "source": [
    "WILDCARDS = dict(well='A1', tile='7')\n",
    "print(WILDCARDS)"
   ]
  },
  {
   "cell_type": "code",
   "execution_count": 49,
   "metadata": {},
   "outputs": [
    {
     "name": "stdout",
     "output_type": "stream",
     "text": [
      "input2/*/10X*A1_Tile-107.sbs.tif\n"
     ]
    }
   ],
   "source": [
    "print(search)"
   ]
  },
  {
   "cell_type": "code",
   "execution_count": 50,
   "metadata": {},
   "outputs": [
    {
     "name": "stdout",
     "output_type": "stream",
     "text": [
      "input2/10X_c1-SBS-1/10X_c1-SBS-1_A1_Tile-7.sbs.tif\n",
      "input2/10X_c2-SBS-2/10X_c2-SBS-2_A1_Tile-7.sbs.tif\n",
      "input2/10X_c3-SBS-3/10X_c3-SBS-3_A1_Tile-7.sbs.tif\n",
      "input2/10X_c4-SBS-4/10X_c4-SBS-4_A1_Tile-7.sbs.tif\n",
      "input2/10X_c5-SBS-5/10X_c5-SBS-5_A1_Tile-7.sbs.tif\n",
      "input2/10X_c6-SBS-6/10X_c6-SBS-6_A1_Tile-7.sbs.tif\n",
      "input2/10X_c7-SBS-7/10X_c7-SBS-7_A1_Tile-7.sbs.tif\n",
      "input2/10X_c8-SBS-8/10X_c8-SBS-8_A1_Tile-7.sbs.tif\n",
      "input2/10X_c9-SBS-9/10X_c9-SBS-9_A1_Tile-7.sbs.tif\n"
     ]
    }
   ],
   "source": [
    "search = 'input2/*/10X*{well}_Tile-{tile}.sbs.tif'.format(**WILDCARDS)\n",
    "input_files = natsorted(glob(search))\n",
    "for f in input_files:\n",
    "    print(f)"
   ]
  },
  {
   "cell_type": "code",
   "execution_count": null,
   "metadata": {},
   "outputs": [],
   "source": []
  }
 ],
 "metadata": {
  "kernelspec": {
   "display_name": "Python 3 (ipykernel)",
   "language": "python",
   "name": "python3"
  },
  "language_info": {
   "codemirror_mode": {
    "name": "ipython",
    "version": 3
   },
   "file_extension": ".py",
   "mimetype": "text/x-python",
   "name": "python",
   "nbconvert_exporter": "python",
   "pygments_lexer": "ipython3",
   "version": "3.9.6"
  },
  "vscode": {
   "interpreter": {
    "hash": "2b8b3e5efcb120d6171e5461ccc424df8eb0a4e53cb5241b496314a43249b536"
   }
  }
 },
 "nbformat": 4,
 "nbformat_minor": 4
}
